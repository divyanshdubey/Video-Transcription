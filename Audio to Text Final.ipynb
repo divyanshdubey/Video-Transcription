{
 "cells": [
  {
   "cell_type": "code",
   "execution_count": 1,
   "id": "702808de",
   "metadata": {},
   "outputs": [
    {
     "name": "stderr",
     "output_type": "stream",
     "text": [
      "C:\\ProgramData\\Anaconda3\\lib\\site-packages\\pydub\\utils.py:170: RuntimeWarning: Couldn't find ffmpeg or avconv - defaulting to ffmpeg, but may not work\n",
      "  warn(\"Couldn't find ffmpeg or avconv - defaulting to ffmpeg, but may not work\", RuntimeWarning)\n"
     ]
    }
   ],
   "source": [
    "from pydub import AudioSegment \n",
    "from pydub.utils import make_chunks \n",
    "import os\n",
    "import speech_recognition as sr\n",
    "import ffmpeg"
   ]
  },
  {
   "cell_type": "code",
   "execution_count": 2,
   "id": "ccf91ba7",
   "metadata": {},
   "outputs": [],
   "source": [
    "def video2audio(video_path):\n",
    "\n",
    "    # Python code to convert video to audio\n",
    "    import moviepy.editor as mp\n",
    "\n",
    "    # Insert Local Video File Path\n",
    "    clip = mp.VideoFileClip(video_path)\n",
    "\n",
    "    # Insert Local Audio File Path\n",
    "    clip.audio.write_audiofile(r\"words.wav\")\n",
    "    \n",
    "    print(\"Released Audio File Path: 'words.wav'\")\n",
    "    "
   ]
  },
  {
   "cell_type": "code",
   "execution_count": 3,
   "id": "ae29998f",
   "metadata": {},
   "outputs": [],
   "source": [
    "def split_audio(audio_path):\n",
    "    myaudio = AudioSegment.from_file(audio_path, \"wav\")  #\n",
    "    chunk_length_ms = 30000 # pydub calculates in millisec \n",
    "    chunks = make_chunks(myaudio,chunk_length_ms) #Make chunks of one sec \n",
    "    for i, chunk in enumerate(chunks): \n",
    "        chunk_name = \"{0}.wav\".format(i) \n",
    "        print (\"exporting\", chunk_name) \n",
    "        chunk.export(\"Audio Chunks/\"+chunk_name, format=\"wav\") \n",
    "    print(\"Release Chunks Path: '.\\Audio Chunks'\")\n",
    "    "
   ]
  },
  {
   "cell_type": "code",
   "execution_count": 4,
   "id": "07f1b06a",
   "metadata": {},
   "outputs": [],
   "source": [
    "def audio2text(chunk_folder_path):\n",
    "    text = \"\"\n",
    "    path = os.walk(chunk_folder_path)\n",
    "    r = sr.Recognizer()\n",
    "    try:\n",
    "        for root, dirr, files in path:\n",
    "            for file in files:\n",
    "                with sr.AudioFile(\"Audio Chunks\\\\\"+file) as source:\n",
    "                    audio = r.record(source) \n",
    "                print(r.recognize_google(audio))\n",
    "                text = text + r.recognize_google(audio)\n",
    "    except:\n",
    "        print(\"Cannot hear anything.\")\n",
    "    \n",
    "    \n",
    "    return text"
   ]
  },
  {
   "cell_type": "code",
   "execution_count": 5,
   "id": "6c1bf9b2",
   "metadata": {},
   "outputs": [],
   "source": [
    "def main(video_path):\n",
    "    \n",
    "    video2audio(video_path)\n",
    "    split_audio(\"words.wav\")\n",
    "    return audio2text(\".\\Audio Chunks\")"
   ]
  },
  {
   "cell_type": "code",
   "execution_count": null,
   "id": "00a0c923",
   "metadata": {},
   "outputs": [
    {
     "name": "stderr",
     "output_type": "stream",
     "text": [
      "\r",
      "chunk:   0%|                                                                        | 0/7749 [00:00<?, ?it/s, now=None]"
     ]
    },
    {
     "name": "stdout",
     "output_type": "stream",
     "text": [
      "MoviePy - Writing audio in words.wav\n"
     ]
    },
    {
     "name": "stderr",
     "output_type": "stream",
     "text": [
      "                                                                                                                       \r"
     ]
    },
    {
     "name": "stdout",
     "output_type": "stream",
     "text": [
      "MoviePy - Done.\n",
      "Released Audio File Path: 'words.wav'\n",
      "exporting 0.wav\n",
      "exporting 1.wav\n",
      "exporting 2.wav\n",
      "exporting 3.wav\n",
      "exporting 4.wav\n",
      "exporting 5.wav\n",
      "exporting 6.wav\n",
      "exporting 7.wav\n",
      "exporting 8.wav\n",
      "exporting 9.wav\n",
      "exporting 10.wav\n",
      "exporting 11.wav\n",
      "Release Chunks Path: '.\\Audio Chunks'\n",
      "the arrival of printers doesn't have to mean that we all had inside and Beat until spring to continue or to rent paid ventures on the contrary the cold and snow bring opportunities for a new kind of adventures and quite frankly if you have any interest scheme snowboarding this new showing on the host of other winter activities you are truly missing out that chat greater\n",
      "caution is needed when heading outside and cold conditions as freezing temperatures can lead to dangerous situations every are not careful but a proper layering system can I sure that we stay warm and comfortable at just about any temperature provided you have the proper gear so what is just what gear do you need to stay warm and try this is how to dress\n",
      "shell jacket stand to be fairly thin and made from fabric sligo attacks but x-powered-by variety of other proprietary waterproof materials these leaders are usually is relatively thing as they are not asked to provide warmth just protection from the elements in the past these types of jackets tend to be warm because they were especially breathable at that is changing with your hi tech fabric\n",
      "future light today we have a number of great shells to choose from that performs at an incredible incredibly high level keeping wind and rain out while allowing access heat and most about the result is a safer more comfortable Jackson jacket for use in the winter\n",
      "Guntur District comfortable and adverse conditions layer of are you for that wise to trace in layers before and of course it seems like commerce as advice but there is a measured approach to wearing their that goes well beyond just piling on more clothes that is both more efficient and more comfortable Idea behind the layering system is to have the right clothes to wear not just more\n",
      "stupid on each of three layers each of the three layers that make up the system has a purpose and is meant to go with the other to put to keep us warm and dry of a goal is to create won't keep us try manage most and evaluate overall our overall temperature at here's what you need base layers perhaps most importantly of all is the\n",
      "this lightweight garments it closest to the skin and are charged with breaking most away from the body drawing quickly and regulating our Bond these players come in a variety of ways that are meant for different temperature levels in temperature close to quizzing 30 degree Fahrenheit or zero degree celsius allied with which they will often do the trick\n"
     ]
    }
   ],
   "source": [
    "main(\"words.mp4\")"
   ]
  },
  {
   "cell_type": "code",
   "execution_count": null,
   "id": "2d80d7dc",
   "metadata": {},
   "outputs": [],
   "source": [
    "# video2audio(\"words.mp4\")"
   ]
  },
  {
   "cell_type": "code",
   "execution_count": 20,
   "id": "3233dc01",
   "metadata": {},
   "outputs": [],
   "source": [
    "# split_audio(\"words.wav\") # Type Released Audio File Path returned from previous code here."
   ]
  },
  {
   "cell_type": "code",
   "execution_count": 19,
   "id": "887e6ea4",
   "metadata": {},
   "outputs": [],
   "source": [
    "# audio2text('.\\Audio Chunks')"
   ]
  },
  {
   "cell_type": "code",
   "execution_count": null,
   "id": "a0dd542d",
   "metadata": {},
   "outputs": [],
   "source": []
  },
  {
   "cell_type": "code",
   "execution_count": null,
   "id": "8aadd764",
   "metadata": {},
   "outputs": [],
   "source": []
  }
 ],
 "metadata": {
  "kernelspec": {
   "display_name": "Python 3 (ipykernel)",
   "language": "python",
   "name": "python3"
  },
  "language_info": {
   "codemirror_mode": {
    "name": "ipython",
    "version": 3
   },
   "file_extension": ".py",
   "mimetype": "text/x-python",
   "name": "python",
   "nbconvert_exporter": "python",
   "pygments_lexer": "ipython3",
   "version": "3.8.8"
  }
 },
 "nbformat": 4,
 "nbformat_minor": 5
}

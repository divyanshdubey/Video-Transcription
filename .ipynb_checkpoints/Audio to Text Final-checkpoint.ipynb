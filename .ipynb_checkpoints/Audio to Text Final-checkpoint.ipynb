{
 "cells": [
  {
   "cell_type": "code",
   "execution_count": 1,
   "id": "702808de",
   "metadata": {},
   "outputs": [
    {
     "name": "stderr",
     "output_type": "stream",
     "text": [
      "C:\\ProgramData\\Anaconda3\\lib\\site-packages\\pydub\\utils.py:170: RuntimeWarning: Couldn't find ffmpeg or avconv - defaulting to ffmpeg, but may not work\n",
      "  warn(\"Couldn't find ffmpeg or avconv - defaulting to ffmpeg, but may not work\", RuntimeWarning)\n"
     ]
    }
   ],
   "source": [
    "from pydub import AudioSegment \n",
    "from pydub.utils import make_chunks \n",
    "import os\n",
    "import speech_recognition as sr\n",
    "import ffmpeg"
   ]
  },
  {
   "cell_type": "code",
   "execution_count": 2,
   "id": "ccf91ba7",
   "metadata": {},
   "outputs": [],
   "source": [
    "def video2audio(video_path):\n",
    "\n",
    "    # Python code to convert video to audio\n",
    "    import moviepy.editor as mp\n",
    "\n",
    "    # Insert Local Video File Path\n",
    "    clip = mp.VideoFileClip(video_path)\n",
    "\n",
    "    # Insert Local Audio File Path\n",
    "    clip.audio.write_audiofile(r\"words.wav\")\n",
    "    \n",
    "    print(\"Released Audio File Path: 'words.wav'\")\n",
    "    "
   ]
  },
  {
   "cell_type": "code",
   "execution_count": 3,
   "id": "ae29998f",
   "metadata": {},
   "outputs": [],
   "source": [
    "def split_audio(audio_path):\n",
    "    myaudio = AudioSegment.from_file(audio_path, \"wav\")  #\n",
    "    chunk_length_ms = 30000 # pydub calculates in millisec \n",
    "    chunks = make_chunks(myaudio,chunk_length_ms) #Make chunks of one sec \n",
    "    for i, chunk in enumerate(chunks): \n",
    "        chunk_name = \"{0}.wav\".format(i) \n",
    "        print (\"exporting\", chunk_name) \n",
    "        chunk.export(\"Audio Chunks/\"+chunk_name, format=\"wav\") \n",
    "    print(\"Release Chunks Path: '.\\Audio Chunks'\")\n",
    "    "
   ]
  },
  {
   "cell_type": "code",
   "execution_count": 4,
   "id": "07f1b06a",
   "metadata": {},
   "outputs": [],
   "source": [
    "def audio2text(chunk_folder_path):\n",
    "    text = \"\"\n",
    "    path = os.walk(chunk_folder_path)\n",
    "    r = sr.Recognizer()\n",
    "    try:\n",
    "        for root, dirr, files in path:\n",
    "            for file in files:\n",
    "                with sr.AudioFile(\"Audio Chunks\\\\\"+file) as source:\n",
    "                    audio = r.record(source) \n",
    "                print(r.recognize_google(audio))\n",
    "                text = text + r.recognize_google(audio)\n",
    "    except:\n",
    "        print(\"Cannot hear anything.\")\n",
    "    \n",
    "    \n",
    "    return text"
   ]
  },
  {
   "cell_type": "code",
   "execution_count": 5,
   "id": "6c1bf9b2",
   "metadata": {},
   "outputs": [],
   "source": [
    "def main(video_path):\n",
    "    \n",
    "    video2audio(video_path)\n",
    "    split_audio(\"words.wav\")\n",
    "    return audio2text(\".\\Audio Chunks\")"
   ]
  },
  {
   "cell_type": "code",
   "execution_count": null,
   "id": "877d382f",
   "metadata": {},
   "outputs": [],
   "source": [
    "main(\"words.mp4\")"
   ]
  },
  {
   "cell_type": "code",
   "execution_count": null,
   "id": "2d80d7dc",
   "metadata": {},
   "outputs": [],
   "source": [
    "# video2audio(\"words.mp4\")"
   ]
  },
  {
   "cell_type": "code",
   "execution_count": 20,
   "id": "3233dc01",
   "metadata": {},
   "outputs": [],
   "source": [
    "# split_audio(\"words.wav\") # Type Released Audio File Path returned from previous code here."
   ]
  },
  {
   "cell_type": "code",
   "execution_count": 19,
   "id": "887e6ea4",
   "metadata": {},
   "outputs": [],
   "source": [
    "# audio2text('.\\Audio Chunks')"
   ]
  },
  {
   "cell_type": "code",
   "execution_count": null,
   "id": "a0dd542d",
   "metadata": {},
   "outputs": [],
   "source": []
  },
  {
   "cell_type": "code",
   "execution_count": null,
   "id": "8aadd764",
   "metadata": {},
   "outputs": [],
   "source": []
  }
 ],
 "metadata": {
  "kernelspec": {
   "display_name": "Python 3 (ipykernel)",
   "language": "python",
   "name": "python3"
  },
  "language_info": {
   "codemirror_mode": {
    "name": "ipython",
    "version": 3
   },
   "file_extension": ".py",
   "mimetype": "text/x-python",
   "name": "python",
   "nbconvert_exporter": "python",
   "pygments_lexer": "ipython3",
   "version": "3.8.8"
  }
 },
 "nbformat": 4,
 "nbformat_minor": 5
}
